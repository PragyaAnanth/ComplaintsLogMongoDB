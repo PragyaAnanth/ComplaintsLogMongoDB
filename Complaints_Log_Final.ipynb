{
  "cells": [
    {
      "cell_type": "markdown",
      "metadata": {
        "id": "view-in-github",
        "colab_type": "text"
      },
      "source": [
        "<a href=\"https://colab.research.google.com/github/PragyaAnanth/ComplaintsLogMongoDB/blob/main/Complaints_Log_Final.ipynb\" target=\"_parent\"><img src=\"https://colab.research.google.com/assets/colab-badge.svg\" alt=\"Open In Colab\"/></a>"
      ]
    },
    {
      "cell_type": "code",
      "execution_count": null,
      "metadata": {
        "id": "UX8Mb6L5SchG"
      },
      "outputs": [],
      "source": [
        "import pymongo\n",
        "import datetime\n",
        "from bson import ObjectId"
      ]
    },
    {
      "cell_type": "code",
      "execution_count": null,
      "metadata": {
        "id": "tdvTRDBSSchQ"
      },
      "outputs": [],
      "source": [
        "# Connecting to our local client \n",
        "myclient = pymongo.MongoClient(\"mongodb://localhost:27017/\")"
      ]
    },
    {
      "cell_type": "code",
      "execution_count": null,
      "metadata": {
        "id": "T3KGZZisSchS"
      },
      "outputs": [],
      "source": [
        "# to drop a database (Just for re running purposes... not needed in final)\n",
        "myclient.drop_database('log')"
      ]
    },
    {
      "cell_type": "code",
      "execution_count": null,
      "metadata": {
        "id": "xRuSflgeSchT"
      },
      "outputs": [],
      "source": [
        "# To create a database called log\n",
        "mydb = myclient[\"log\"] \n",
        "\n",
        "# To create a collection for existing members and their subscription plan\n",
        "subscribers = mydb[\"subscribers\"]\n",
        "\n",
        "# To create a collection for complaints log\n",
        "complaints = mydb[\"complaints\"]"
      ]
    },
    {
      "cell_type": "code",
      "execution_count": null,
      "metadata": {
        "id": "BwtMG5KgSchV"
      },
      "outputs": [],
      "source": [
        "# IMPORTANT !!!!\n",
        "# Needs to be run only once when creating the database for exisiting members \n",
        "# Since, we are dropping the database each runtime. No issues\n",
        "\n",
        "x = [580493117,3215138640,8856007847,5703722522,9653209038,5547080454,3425348056,953555913,8261876470,9741262231,3942891582,3857620072,\n",
        "7060003404,8741007654,4439372574,1036930949,8662908122,8941435811,3390284670,4150942562,6883020066]\n",
        "\n",
        "y = ['Diamond','Gold','Gold','Diamond','Platinum','Silver','Diamond','Silver','Silver','Diamond','Platinum','Silver','Gold',\n",
        "'Gold','Silver','Diamond','Platinum','Silver','Silver','Gold','Silver']\n",
        "\n",
        "for i in range(len(x)):\n",
        "    mydict = { \"phone_number\": x[i], \"subscription\": y[i] }\n",
        "    subscribers.insert_one(mydict)"
      ]
    },
    {
      "cell_type": "code",
      "execution_count": null,
      "metadata": {
        "id": "MS6lwGQtSchW",
        "outputId": "1b65ce9b-8c8a-4294-d7c4-6272302fa2d2"
      },
      "outputs": [
        {
          "name": "stdout",
          "output_type": "stream",
          "text": [
            "{'_id': ObjectId('609795afc63393e8a62b59f5'), 'phone_number': 580493117, 'subscription': 'Diamond'}\n",
            "{'_id': ObjectId('609795afc63393e8a62b59f6'), 'phone_number': 3215138640, 'subscription': 'Gold'}\n",
            "{'_id': ObjectId('609795afc63393e8a62b59f7'), 'phone_number': 8856007847, 'subscription': 'Gold'}\n",
            "{'_id': ObjectId('609795afc63393e8a62b59f8'), 'phone_number': 5703722522, 'subscription': 'Diamond'}\n",
            "{'_id': ObjectId('609795afc63393e8a62b59f9'), 'phone_number': 9653209038, 'subscription': 'Platinum'}\n",
            "{'_id': ObjectId('609795afc63393e8a62b59fa'), 'phone_number': 5547080454, 'subscription': 'Silver'}\n",
            "{'_id': ObjectId('609795afc63393e8a62b59fb'), 'phone_number': 3425348056, 'subscription': 'Diamond'}\n",
            "{'_id': ObjectId('609795afc63393e8a62b59fc'), 'phone_number': 953555913, 'subscription': 'Silver'}\n",
            "{'_id': ObjectId('609795afc63393e8a62b59fd'), 'phone_number': 8261876470, 'subscription': 'Silver'}\n",
            "{'_id': ObjectId('609795afc63393e8a62b59fe'), 'phone_number': 9741262231, 'subscription': 'Diamond'}\n",
            "{'_id': ObjectId('609795afc63393e8a62b59ff'), 'phone_number': 3942891582, 'subscription': 'Platinum'}\n",
            "{'_id': ObjectId('609795afc63393e8a62b5a00'), 'phone_number': 3857620072, 'subscription': 'Silver'}\n",
            "{'_id': ObjectId('609795afc63393e8a62b5a01'), 'phone_number': 7060003404, 'subscription': 'Gold'}\n",
            "{'_id': ObjectId('609795afc63393e8a62b5a02'), 'phone_number': 8741007654, 'subscription': 'Gold'}\n",
            "{'_id': ObjectId('609795afc63393e8a62b5a03'), 'phone_number': 4439372574, 'subscription': 'Silver'}\n",
            "{'_id': ObjectId('609795afc63393e8a62b5a04'), 'phone_number': 1036930949, 'subscription': 'Diamond'}\n",
            "{'_id': ObjectId('609795afc63393e8a62b5a05'), 'phone_number': 8662908122, 'subscription': 'Platinum'}\n",
            "{'_id': ObjectId('609795afc63393e8a62b5a06'), 'phone_number': 8941435811, 'subscription': 'Silver'}\n",
            "{'_id': ObjectId('609795afc63393e8a62b5a07'), 'phone_number': 3390284670, 'subscription': 'Silver'}\n",
            "{'_id': ObjectId('609795afc63393e8a62b5a08'), 'phone_number': 4150942562, 'subscription': 'Gold'}\n",
            "{'_id': ObjectId('609795afc63393e8a62b5a09'), 'phone_number': 6883020066, 'subscription': 'Silver'}\n"
          ]
        }
      ],
      "source": [
        "# When we see the existing subscribers and their subscription plan !!!\n",
        "for x in subscribers.find():\n",
        "    print(x)"
      ]
    },
    {
      "cell_type": "code",
      "execution_count": null,
      "metadata": {
        "id": "Ys6YoKabSchZ"
      },
      "outputs": [],
      "source": [
        "# Menu Driven\n",
        "def menu(choice=0):\n",
        "    if choice==0:\n",
        "        print(\"\\n1. Change Subscription plan of a person\")\n",
        "        print(\"\\n2. Check Subscription plan of a person\")\n",
        "        print(\"\\n3. Lodge a complaint\")\n",
        "        choice = int(input(\"\\nEnter the task:\"))\n",
        "    \n",
        "    if choice==1:\n",
        "        print(\"________________________________________________\")\n",
        "        print(\"\\nChange Subscription plan of a person\")\n",
        "        print(\"________________________________________________\")\n",
        "        phn = int(input(\"Enter phone number to change subscription plan of: \"))\n",
        "        new_plan =  input(\"Enter new subscription plan: \")\n",
        "        myquery = {'phone_number':phn}\n",
        "        for x in subscribers.find(myquery):\n",
        "            old_plan = x[\"subscription\"]\n",
        "        newvalues = { \"$set\": { \"subscription\" : new_plan } }\n",
        "        subscribers.update_one(myquery,newvalues)\n",
        "        \n",
        "        print(\"\\n\",phn,\"has updated his/her subscription plan from\",old_plan,\"to\",new_plan,\"succesfully !\")\n",
        "    if choice==2:\n",
        "        print(\"________________________________________________\")\n",
        "        print(\"\\nCheck Subscription plan of a person\")\n",
        "        print(\"________________________________________________\")\n",
        "        phn = int(input(\"Enter phone number to check subscription plan of: \"))\n",
        "        myquery = {'phone_number':phn}\n",
        "        a = subscribers.count_documents(myquery)\n",
        "        if a==0:\n",
        "            print(\"\\nYou are not subscribed to this company! Try again!\")\n",
        "        else:\n",
        "            for x in subscribers.find(myquery):\n",
        "                plan = x[\"subscription\"]\n",
        "            print(\"\\n\",phn,\"is under the subscription plan of\",plan,\"!\")\n",
        "            \n",
        "    if choice==3:\n",
        "        print(\"________________________________________________\")\n",
        "        print(\"\\nLodging a complaint\")\n",
        "        print(\"________________________________________________\")\n",
        "        phn = int(input(\"Enter phone number: \"))\n",
        "    \n",
        "        # We get subscription plan from the subscribers list we already have in mongo\n",
        "        myquery = {'phone_number':phn}\n",
        "        a = subscribers.count_documents(myquery)\n",
        "        if a==0:\n",
        "            print(\"\\nYou are not subscribed to this company! Try again!\")\n",
        "        else:\n",
        "            for x in subscribers.find(myquery):\n",
        "                plan = x[\"subscription\"]\n",
        "            print(\"\\nComplaint has been lodged for\",phn,\"which is under the subscription plan of\",plan,\"!\")\n",
        "            \n",
        "            if plan==\"Diamond\":\n",
        "                points = 500\n",
        "            elif plan==\"Platinum\":\n",
        "                points = 300\n",
        "            elif plan==\"Silver\":\n",
        "                points=100\n",
        "            else:\n",
        "                points =50\n",
        "                \n",
        "            # Inserting all this inside complaints log\n",
        "            fmt = '%Y-%m-%d %H:%M:%S.%f'\n",
        "            ct = str(datetime.datetime.now())\n",
        "            mydict = {'phone_number':phn,'subscription':plan,'complaint_time':ct,'waiting_time':0,'membership_score':points,'score':0}\n",
        "            complaints.insert_one(mydict)  # Inserting complaints in complaints !\n",
        "    \n"
      ]
    },
    {
      "cell_type": "code",
      "execution_count": null,
      "metadata": {
        "id": "gYOBh10VSche"
      },
      "outputs": [],
      "source": [
        "# Some example cases to check if it works fine... final project changes will be made !"
      ]
    },
    {
      "cell_type": "code",
      "execution_count": null,
      "metadata": {
        "id": "VIuo8dUXSchh",
        "outputId": "7eb7d73e-f7cb-4ad5-a3d4-de211f4116dd"
      },
      "outputs": [
        {
          "name": "stdout",
          "output_type": "stream",
          "text": [
            "\n",
            "1. Change Subscription plan of a person\n",
            "\n",
            "2. Check Subscription plan of a person\n",
            "\n",
            "3. Lodge a complaint\n",
            "\n",
            "Enter the task:1\n",
            "________________________________________________\n",
            "\n",
            "Change Subscription plan of a person\n",
            "________________________________________________\n",
            "Enter phone number to change subscription plan of: 8941435811\n",
            "Enter new subscription plan: Diamond\n",
            "\n",
            " 8941435811 has updated his/her subscription plan from Silver to Diamond succesfully !\n"
          ]
        }
      ],
      "source": [
        "# 1. Change Subscription plan of a person\n",
        "choice = menu()"
      ]
    },
    {
      "cell_type": "code",
      "execution_count": null,
      "metadata": {
        "id": "vAdeoRktSchi",
        "outputId": "96bca29f-7977-4e91-9fd2-1b2158ca40ac"
      },
      "outputs": [
        {
          "name": "stdout",
          "output_type": "stream",
          "text": [
            "\n",
            "1. Change Subscription plan of a person\n",
            "\n",
            "2. Check Subscription plan of a person\n",
            "\n",
            "3. Lodge a complaint\n",
            "\n",
            "Enter the task:580493117\n"
          ]
        }
      ],
      "source": [
        "# 2.Check Subscription plan of a person\n",
        "choice = menu()"
      ]
    },
    {
      "cell_type": "code",
      "execution_count": null,
      "metadata": {
        "id": "tdIxewrLSchk",
        "outputId": "f65e72c7-5f82-4af4-b429-918994d83c53"
      },
      "outputs": [
        {
          "name": "stdout",
          "output_type": "stream",
          "text": [
            "\n",
            "1. Change Subscription plan of a person\n",
            "\n",
            "2. Check Subscription plan of a person\n",
            "\n",
            "3. Lodge a complaint\n",
            "\n",
            "Enter the task:3\n",
            "________________________________________________\n",
            "\n",
            "Lodging a complaint\n",
            "________________________________________________\n",
            "Enter phone number: 580493117\n",
            "\n",
            "Complaint has been lodged for 580493117 which is under the subscription plan of Diamond !\n"
          ]
        }
      ],
      "source": [
        "# 3.Lodge a complaint\n",
        "choice = menu()"
      ]
    },
    {
      "cell_type": "code",
      "execution_count": null,
      "metadata": {
        "id": "WwPAoK1RSchk",
        "outputId": "53c8bf2e-ec73-4816-9c88-e1cec97bb32d"
      },
      "outputs": [
        {
          "name": "stdout",
          "output_type": "stream",
          "text": [
            "________________________________________________\n",
            "\n",
            "Lodging a complaint\n",
            "________________________________________________\n",
            "Enter phone number: 580493117\n",
            "\n",
            "Complaint has been lodged for 580493117 which is under the subscription plan of Diamond !\n",
            "________________________________________________\n",
            "\n",
            "Lodging a complaint\n",
            "________________________________________________\n",
            "Enter phone number: 3215138640\n",
            "\n",
            "Complaint has been lodged for 3215138640 which is under the subscription plan of Gold !\n",
            "________________________________________________\n",
            "\n",
            "Lodging a complaint\n",
            "________________________________________________\n",
            "Enter phone number: 8856007847\n",
            "\n",
            "Complaint has been lodged for 8856007847 which is under the subscription plan of Gold !\n",
            "________________________________________________\n",
            "\n",
            "Lodging a complaint\n",
            "________________________________________________\n",
            "Enter phone number: 9653209038\n",
            "\n",
            "Complaint has been lodged for 9653209038 which is under the subscription plan of Platinum !\n",
            "________________________________________________\n",
            "\n",
            "Lodging a complaint\n",
            "________________________________________________\n",
            "Enter phone number: 8941435811\n",
            "\n",
            "Complaint has been lodged for 8941435811 which is under the subscription plan of Diamond !\n"
          ]
        }
      ],
      "source": [
        "# Adding info to book 5 complaints (Just for illustration purposes)\n",
        "\n",
        "numbers = [580493117,3215138640,8856007847,9653209038,8941435811]\n",
        "for i in range(5):\n",
        "    menu(choice=3)"
      ]
    },
    {
      "cell_type": "code",
      "execution_count": null,
      "metadata": {
        "id": "ZsdSh6qVSchm",
        "outputId": "e94a63e8-fbbe-4188-ac5a-ad3391ccd021"
      },
      "outputs": [
        {
          "name": "stdout",
          "output_type": "stream",
          "text": [
            "{'_id': ObjectId('609795b8c63393e8a62b5a0a'), 'phone_number': 580493117, 'subscription': 'Diamond', 'complaint_time': '2021-05-09 13:26:40.066243', 'waiting_time': 1.5562332499999998, 'membership_score': 500, 'score': 501.55623325}\n",
            "{'_id': ObjectId('609797bec63393e8a62b5a0b'), 'phone_number': 580493117, 'subscription': 'Diamond', 'complaint_time': '2021-05-09 13:35:18.775891', 'waiting_time': 0, 'membership_score': 500, 'score': 0}\n",
            "{'_id': ObjectId('609797c3c63393e8a62b5a0c'), 'phone_number': 3215138640, 'subscription': 'Gold', 'complaint_time': '2021-05-09 13:35:23.754374', 'waiting_time': 0, 'membership_score': 50, 'score': 0}\n",
            "{'_id': ObjectId('609797c8c63393e8a62b5a0d'), 'phone_number': 8856007847, 'subscription': 'Gold', 'complaint_time': '2021-05-09 13:35:28.128456', 'waiting_time': 0, 'membership_score': 50, 'score': 0}\n",
            "{'_id': ObjectId('609797cdc63393e8a62b5a0e'), 'phone_number': 9653209038, 'subscription': 'Platinum', 'complaint_time': '2021-05-09 13:35:33.798576', 'waiting_time': 0, 'membership_score': 300, 'score': 0}\n",
            "{'_id': ObjectId('609797d3c63393e8a62b5a0f'), 'phone_number': 8941435811, 'subscription': 'Diamond', 'complaint_time': '2021-05-09 13:35:39.788911', 'waiting_time': 0, 'membership_score': 500, 'score': 0}\n"
          ]
        }
      ],
      "source": [
        "# Now, if we have a look at the complaints log, we can see the complaint that has been lodged !!\n",
        "for x in complaints.find():\n",
        "    print(x)"
      ]
    },
    {
      "cell_type": "code",
      "execution_count": null,
      "metadata": {
        "id": "Y_YJJ0YpSchm"
      },
      "outputs": [],
      "source": [
        "def calculate_score():\n",
        "    for x in complaints.find():\n",
        "        complaint_time = x['complaint_time']\n",
        "        membership_score = x['membership_score']\n",
        "        index = str(x[\"_id\"])\n",
        "        now =  str(datetime.datetime.now())\n",
        "        fmt = '%Y-%m-%d %H:%M:%S.%f'\n",
        "        d1 = datetime.datetime.strptime(complaint_time, fmt)\n",
        "        d2 = datetime.datetime.strptime(now, fmt)\n",
        "        waiting_time = (d2-d1).total_seconds() / 60\n",
        "        complaints.update_one({'_id': ObjectId(index)},{\"$set\":{ \"waiting_time\" : waiting_time}})\n",
        "        score = membership_score + waiting_time\n",
        "        complaints.update_one({'_id': ObjectId(index)},{\"$set\":{ \"score\" : score}})"
      ]
    },
    {
      "cell_type": "code",
      "execution_count": null,
      "metadata": {
        "id": "bab5CIdjSchn",
        "outputId": "88b1c5cc-37e8-456c-f556-9ec8d942d37f"
      },
      "outputs": [
        {
          "name": "stdout",
          "output_type": "stream",
          "text": [
            "{'_id': ObjectId('609795b8c63393e8a62b5a0a'), 'phone_number': 580493117, 'subscription': 'Diamond', 'complaint_time': '2021-05-09 13:26:40.066243', 'waiting_time': 9.166997633333333, 'membership_score': 500, 'score': 509.1669976333333}\n",
            "{'_id': ObjectId('609797bec63393e8a62b5a0b'), 'phone_number': 580493117, 'subscription': 'Diamond', 'complaint_time': '2021-05-09 13:35:18.775891', 'waiting_time': 0.5218532333333333, 'membership_score': 500, 'score': 500.52185323333333}\n",
            "{'_id': ObjectId('609797c3c63393e8a62b5a0c'), 'phone_number': 3215138640, 'subscription': 'Gold', 'complaint_time': '2021-05-09 13:35:23.754374', 'waiting_time': 0.43889588333333335, 'membership_score': 50, 'score': 50.43889588333333}\n",
            "{'_id': ObjectId('609797c8c63393e8a62b5a0d'), 'phone_number': 8856007847, 'subscription': 'Gold', 'complaint_time': '2021-05-09 13:35:28.128456', 'waiting_time': 0.36601105, 'membership_score': 50, 'score': 50.36601105}\n",
            "{'_id': ObjectId('609797cdc63393e8a62b5a0e'), 'phone_number': 9653209038, 'subscription': 'Platinum', 'complaint_time': '2021-05-09 13:35:33.798576', 'waiting_time': 0.27152525, 'membership_score': 300, 'score': 300.27152525}\n",
            "{'_id': ObjectId('609797d3c63393e8a62b5a0f'), 'phone_number': 8941435811, 'subscription': 'Diamond', 'complaint_time': '2021-05-09 13:35:39.788911', 'waiting_time': 0.17170359999999998, 'membership_score': 500, 'score': 500.1717036}\n"
          ]
        }
      ],
      "source": [
        "calculate_score()\n",
        "for x in complaints.find():  \n",
        "    print(x)"
      ]
    },
    {
      "cell_type": "code",
      "execution_count": null,
      "metadata": {
        "id": "lQKqay9XScho"
      },
      "outputs": [],
      "source": [
        "def assign_task():\n",
        "    for x in complaints.find().sort(\"score\", -1):\n",
        "        phn = x['phone_number']\n",
        "        print(phn,\"'s complaint has been assingned !\")\n",
        "        print(\"____________________________________________________\")\n",
        "        calculate_score()\n",
        "        print(\"All complaints has been assinged!\")"
      ]
    },
    {
      "cell_type": "code",
      "execution_count": null,
      "metadata": {
        "id": "RWUwIYxuSchp",
        "outputId": "e95b06d3-c099-43ea-9543-bb99c9d07a13"
      },
      "outputs": [
        {
          "name": "stdout",
          "output_type": "stream",
          "text": [
            "580493117 's complaint has been assingned !\n",
            "____________________________________________________\n",
            "All complaints has been assinged!\n",
            "580493117 's complaint has been assingned !\n",
            "____________________________________________________\n",
            "All complaints has been assinged!\n",
            "8941435811 's complaint has been assingned !\n",
            "____________________________________________________\n",
            "All complaints has been assinged!\n",
            "9653209038 's complaint has been assingned !\n",
            "____________________________________________________\n",
            "All complaints has been assinged!\n",
            "3215138640 's complaint has been assingned !\n",
            "____________________________________________________\n",
            "All complaints has been assinged!\n",
            "8856007847 's complaint has been assingned !\n",
            "____________________________________________________\n",
            "All complaints has been assinged!\n"
          ]
        }
      ],
      "source": [
        "assign_task()"
      ]
    },
    {
      "cell_type": "code",
      "execution_count": null,
      "metadata": {
        "id": "EWh_LGjLSchq"
      },
      "outputs": [],
      "source": [
        ""
      ]
    }
  ],
  "metadata": {
    "kernelspec": {
      "display_name": "Python 3",
      "language": "python",
      "name": "python3"
    },
    "language_info": {
      "codemirror_mode": {
        "name": "ipython",
        "version": 3
      },
      "file_extension": ".py",
      "mimetype": "text/x-python",
      "name": "python",
      "nbconvert_exporter": "python",
      "pygments_lexer": "ipython3",
      "version": "3.8.5"
    },
    "colab": {
      "name": "Complaints Log Final.ipynb",
      "provenance": [],
      "include_colab_link": true
    }
  },
  "nbformat": 4,
  "nbformat_minor": 0
}